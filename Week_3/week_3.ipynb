{
 "cells": [
  {
   "cell_type": "markdown",
   "metadata": {},
   "source": [
    "# Week 3\n",
    "##  Defects"
   ]
  },
  {
   "cell_type": "markdown",
   "metadata": {},
   "source": [
    "# Background#\n",
    "\n",
    "\n",
    "As an old pessimist once said: \"Nothing's perfect\" and this statement holds true for materials. \n",
    "\n",
    "All materials contain defects and these defects often control the properties of the material. Over the next **week**, you will be **investigating** the effects of **two structural defects** on the **transport properties** of CaF$_2$.\n",
    "\n",
    "The first is a **Schottky defect**. This is the removal of a formula unit of the material - leaving cation and anion vacancies. This is illustrated in a Figure 1, which is a simple schematic of a Schottky defect in rocksalt NaCl. \n",
    "\n",
    "<center>\n",
    "    <br>\n",
    "    <img src=\"./figures/Schottky.png\\\" width=\\\"400px\\\">\n",
    "    <i>Figure 1: A pictorial example of the Schottky defect.</i>\n",
    "    <br>\n",
    "</center>\n",
    "\n",
    "\n",
    "The second is a **Frenkel defect**, which occurs when a cation or anion (Although definetely not in the case of CaF$_2$) settles outside of its lattice site within an interstitial site. This is illustrated in Figure 2. \n",
    "\n",
    "<center>\n",
    "    <br>\n",
    "    <img src=\"./figures/Frenkel.png\\\" width=\\\"400px\\\">\n",
    "    <i>Figure 2: A pictorial example of the Frenkel defect.</i>\n",
    "    <br>\n",
    "</center>\n"
   ]
  },
  {
   "cell_type": "markdown",
   "metadata": {},
   "source": [
    "# Aim and Objectives #\n",
    "\n",
    "The **Aim** of the next **week** is to **design** your own simulations to\n",
    "**investigate** how the transport properties of CaF$_2$  are affected by structural defects (Schottky and Frenkel).\n",
    "\n",
    "The **first objective** is to **decide** on the specific research questions you would like to answer.\n",
    "\n",
    "The **second objective** is to **design** the simulations to answer these quesions.\n",
    "\n",
    "The **third objective** is to **run** these simulations.\n",
    "\n",
    "For example, you could design simulations to answer the following research questions:\n",
    "\n",
    "- How do Frenkel/Schottky defects affect the diffusion of F?\n",
    "- How does increasing the concentration of Frenkel/Schottky defects affect the diffusion of F?\n",
    "- At what concentration of defect does the structure breakdown?\n",
    "- Has improving the transport properties had a negative impact on another property? e.g. Stability"
   ]
  },
  {
   "cell_type": "markdown",
   "metadata": {},
   "source": [
    "# Simulating Defects #\n",
    "\n",
    "In order to add defects to the simulation cell you have two choices:\n",
    "\n",
    "1. You can do it manually by editing the files\n",
    "2. You can use the <code>defect</code> module \n",
    "\n",
    "The <code>defect</code> module works in 3 steps:   \n",
    "\n",
    "1) **Read** the <code>input.txt</code> file  \n",
    "2) **Add** the defects  \n",
    "3) **Output** the new file  \n",
    "\n",
    "Once you have introduced defects to your simulation cell, you can run <code>METADISE</code> to produce the input files to run molecular dynamics simulations using <code>DL_POLY</code>.\n"
   ]
  },
  {
   "cell_type": "markdown",
   "metadata": {},
   "source": [
    "# Exercise 1: Introducing Frenkel Defects #\n",
    "\n",
    "\n",
    "**Run** the cell below to create an input file for <code>METADISE</code>."
   ]
  },
  {
   "cell_type": "code",
   "execution_count": null,
   "metadata": {
    "collapsed": true
   },
   "outputs": [],
   "source": [
    "import numpy as np\n",
    "import subprocess\n",
    "import os\n",
    "import defect as defect\n",
    "\n",
    "# Read the METADISE input\n",
    "data = defect.read(\"Input/input.txt\")\n",
    "\n",
    "# Add a 10% concentration of Ca Frenkel defects to the data object\n",
    "new_data = defect.frenkel(data, 10, \"CA\")\n",
    "\n",
    "# Write new METADISE input file to a folder called Frenkel_10\n",
    "defect.write_output(new_data, \"Frenkel_10\")"
   ]
  },
  {
   "cell_type": "markdown",
   "metadata": {},
   "source": [
    "This has created a directory called <code>Frenkel_10</code> which contains an input file that contains a 10% concentration of Frenkel defects.\n",
    "\n",
    "**Run** the cell below to run <code>METADISE</code> on your previously generated input file."
   ]
  },
  {
   "cell_type": "code",
   "execution_count": null,
   "metadata": {
    "collapsed": true
   },
   "outputs": [],
   "source": [
    "subprocess.call('../Codes/metadise.exe', cwd='Frenkel_10/')\n",
    "os.rename('Frenkel_10/control_o0001.dlp', 'Frenkel_10/CONTROL')\n",
    "os.rename('Frenkel_10/config__o0001.dlp', 'Frenkel_10/CONFIG')\n",
    "os.rename('Frenkel_10/field___o0001.dlp', 'Frenkel_10/FIELD')"
   ]
  },
  {
   "cell_type": "markdown",
   "metadata": {},
   "source": [
    "<code>METADISE</code> has created the three input files (<code>CONTROL</code>, <code>CONFIG</code> and <code>FIELD</code>) for <code>DL_POLY</code> which correspond to a CaF$_2$ which contains a 10% concentration of Frenkel defects.\n",
    "\n",
    "Now your simulation is ready, **check** the structure before you run the simulation. \n",
    "You can view the <code>CONFIG</code> file in three dimensions using the <code>VESTA</code> program."
   ]
  },
  {
   "cell_type": "markdown",
   "metadata": {},
   "source": [
    "# Exercise 2: Introducing Schottky Defects #\n",
    "\n",
    "\n",
    "**Run** the cell below to create an input file for <code>METADISE</code>."
   ]
  },
  {
   "cell_type": "code",
   "execution_count": null,
   "metadata": {
    "collapsed": true
   },
   "outputs": [],
   "source": [
    "# Read the METADISE input\n",
    "data = defect.read(\"Input/input.txt\")\n",
    "\n",
    "# Add a 10% concentration of Scottky defects to the data object\n",
    "new_data = defect.schottky(data, 10)\n",
    "\n",
    "# Write new METADISE input file to a folder called Scottky_10\n",
    "defect.write_output(new_data, \"Schottky_10\")"
   ]
  },
  {
   "cell_type": "markdown",
   "metadata": {},
   "source": [
    "This has created a directory called <code>Schottky_10</code> which contains an input file that contains a 10% concentration of Schottky defects.\n",
    "\n",
    "**Run** the cell below to run <code>METADISE</code> on your previously generated input file."
   ]
  },
  {
   "cell_type": "code",
   "execution_count": null,
   "metadata": {
    "collapsed": true
   },
   "outputs": [],
   "source": [
    "subprocess.call('../Codes/metadise.exe', cwd='Schottky_10/')\n",
    "os.rename('Schottky_10/control_o0001.dlp', 'Schottky_10/CONTROL')\n",
    "os.rename('Schottky_10/config__o0001.dlp', 'Schottky_10/CONFIG')\n",
    "os.rename('Schottky_10/field___o0001.dlp', 'Schottky_10/FIELD')"
   ]
  },
  {
   "cell_type": "markdown",
   "metadata": {},
   "source": [
    "<code>METADISE</code> has created the three input files (<code>CONTROL</code>, <code>CONFIG</code> and <code>FIELD</code>) for <code>DL_POLY</code> which correspond to a CaF$_2$ which contains a 10% concentration of Schottky defects.\n",
    "\n",
    "Now your simulation is ready, **check** the structure before you run the simulation. \n",
    "You can view the <code>CONFIG</code> file in three dimensions using the <code>VESTA</code> program."
   ]
  },
  {
   "cell_type": "markdown",
   "metadata": {},
   "source": [
    "# Putting It All Together #\n",
    "\n",
    "You should now hopefully have the tools needed to begin to investigate the role of point defects on the transport properties of CaF$_2$. \n",
    "\n",
    "It is up to you how you want to proceed from here, this should be treated as a research project, in your groups decide what questions you want to answer and then design a series of simulations to answer those questions. As always there will be a demonstrator who will be happy to assist. Good luck."
   ]
  }
 ],
 "metadata": {
  "kernelspec": {
   "display_name": "Python 3",
   "language": "python",
   "name": "python3"
  },
  "language_info": {
   "codemirror_mode": {
    "name": "ipython",
    "version": 3
   },
   "file_extension": ".py",
   "mimetype": "text/x-python",
   "name": "python",
   "nbconvert_exporter": "python",
   "pygments_lexer": "ipython3",
   "version": "3.6.3"
  }
 },
 "nbformat": 4,
 "nbformat_minor": 2
}
