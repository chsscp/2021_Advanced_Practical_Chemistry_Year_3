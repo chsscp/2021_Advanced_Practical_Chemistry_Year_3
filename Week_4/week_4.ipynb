{
 "cells": [
  {
   "cell_type": "markdown",
   "metadata": {},
   "source": [
    "# Week 4 \n",
    "### Dopants"
   ]
  },
  {
   "cell_type": "markdown",
   "metadata": {},
   "source": [
    "# Background#"
   ]
  },
  {
   "cell_type": "markdown",
   "metadata": {},
   "source": [
    "A **dopant** is a foreign atom that enters the lattice. This can be accidental, e.g. Nuclear fuel contains large concentrations of Fe cations due to the fuel pellets being heated on steel equitment, or it can be by design, e.g. Gadalidium doped ceria is a fuel cell material where Gd cations are added to improve the materials conductivity. "
   ]
  },
  {
   "cell_type": "markdown",
   "metadata": {},
   "source": [
    "<center>\n",
    "    <br>\n",
    "    <img src=\"./figures/Dopant.png\\\" width=\\\"400px\\\">\n",
    "    <i>Figure 1. A pictorial example of doped NaCl.</i>\n",
    "    <br>\n",
    "</center>"
   ]
  },
  {
   "cell_type": "markdown",
   "metadata": {},
   "source": [
    "# Aim and Objectives #\n",
    "\n",
    "The **Aim** of the next **week** is to **design** your own simulations to\n",
    "**investigate** how the transport properties of CaF$_2$  are affected by dopants.\n",
    "\n",
    "The **first objective** is to **decide** on the specific research questions you would like to answer.\n",
    "\n",
    "The **second objective** is to **design** the simulations to answer these quesions.\n",
    "\n",
    "The **third objective** is to **run** these simulations.\n",
    "\n",
    "For example, you could design simulations to answer the following research questions:\n",
    "\n",
    "- How does the charge of the dopant affect the diffusion of F?\n",
    "- The mass / size of the dopant affect the diffusion of F?\n",
    "- The concentration of the dopant affect the diffusion of F?"
   ]
  },
  {
   "cell_type": "markdown",
   "metadata": {},
   "source": [
    "# Simulating Dopants #\n",
    "\n",
    "The <code>defect</code> module you used in week 3 will help with adding the dopants. \n",
    "\n",
    "**NOTE:** due to the rapid diffusion of anions compared to cations it is pointless to consider anion impurities. Instead it is best to consider cation impurities on Ca sites. "
   ]
  },
  {
   "cell_type": "markdown",
   "metadata": {},
   "source": [
    "# Exercise 1: Introducing Dopants #\n",
    "\n",
    "\n",
    "**Run** the cell below to create an input file for <code>METADISE</code>."
   ]
  },
  {
   "cell_type": "code",
   "execution_count": null,
   "metadata": {
    "collapsed": true
   },
   "outputs": [],
   "source": [
    "import numpy as np\n",
    "import subprocess\n",
    "import os\n",
    "import defect"
   ]
  },
  {
   "cell_type": "code",
   "execution_count": null,
   "metadata": {},
   "outputs": [],
   "source": [
    "# Read the METADISE input file\n",
    "data = defect.read(\"Input/input.txt\")\n",
    "\n",
    "# Add a 10 % concentration of 3+ charged La\n",
    "new_data = defect.dopant(data, \"La\", 3.0, 10)\n",
    "\n",
    "# Write a METADISE file to folder La_10\n",
    "defect.write_output(new_data, \"La_10\", \"La\")"
   ]
  },
  {
   "cell_type": "markdown",
   "metadata": {},
   "source": [
    "This has created a directory called <code>La_10</code> which contains an input file that contains a 10% concentration of lanthanum dopants with a 3 + charge.\n",
    "\n",
    "**Run** the cell below to run <code>METADISE</code> on your previously generated input file."
   ]
  },
  {
   "cell_type": "code",
   "execution_count": null,
   "metadata": {
    "collapsed": true
   },
   "outputs": [],
   "source": [
    "subprocess.call('../Codes/metadise.exe', cwd='La_10/')\n",
    "os.rename('La_10/control_o0001.dlp', 'La_10/CONTROL')\n",
    "os.rename('La_10/config__o0001.dlp', 'La_10/CONFIG')\n",
    "os.rename('La_10/field___o0001.dlp', 'La_10/FIELD')"
   ]
  },
  {
   "cell_type": "markdown",
   "metadata": {},
   "source": [
    "<code>METADISE</code> has created the three input files (<code>CONTROL</code>, <code>CONFIG</code> and <code>FIELD</code>) for <code>DL_POLY</code> which correspond to a CaF$_2$ which contains a 10% concentration of lanthanum dopants.\n",
    "\n",
    "Now your simulation is ready, **check** the structure before you run the simulation. \n",
    "You can view the <code>CONFIG</code> file in three dimensions using the <code>VESTA</code> program."
   ]
  },
  {
   "cell_type": "markdown",
   "metadata": {},
   "source": [
    "**Run** the cells below to create input files for <code>METADISE</code> and run <code>METADISE</code> on your previously generated input files. \n",
    "\n",
    "This will generate two directories containing the three input files (<code>CONTROL</code>, <code>CONFIG</code> and <code>FIELD</code>) for <code>DL_POLY</code> which correspond to a CaF$_2$ which contains a 10% concentration of potassium and strontium dopants, respectively.\n"
   ]
  },
  {
   "cell_type": "code",
   "execution_count": null,
   "metadata": {
    "collapsed": true
   },
   "outputs": [],
   "source": [
    "# Read the METADISE input file\n",
    "data = defect.read(\"Input/input.txt\")\n",
    "\n",
    "# Add a 10 % concentration of 1+ charged K\n",
    "new_data = defect.dopant(data, \"K\", 1.0, 10)\n",
    "\n",
    "# Write a METADISE file to folder K_10\n",
    "defect.write_output(new_data, \"K_10\", \"K\")"
   ]
  },
  {
   "cell_type": "code",
   "execution_count": null,
   "metadata": {
    "collapsed": true
   },
   "outputs": [],
   "source": [
    "subprocess.call('../Codes/metadise.exe', cwd='K_10/')\n",
    "os.rename('K_10/control_o0001.dlp', 'K_10/CONTROL')\n",
    "os.rename('K_10/config__o0001.dlp', 'K_10/CONFIG')\n",
    "os.rename('K_10/field___o0001.dlp', 'K_10/FIELD')"
   ]
  },
  {
   "cell_type": "code",
   "execution_count": null,
   "metadata": {
    "collapsed": true
   },
   "outputs": [],
   "source": [
    "# Read the METADISE input file\n",
    "data = defect.read(\"Input/input.txt\")\n",
    "\n",
    "# Add a 10 % concentration of 2+ charged Sr\n",
    "new_data = defect.dopant(data, \"Sr\", 2.0, 10)\n",
    "\n",
    "# Write a METADISE file to folder Sr_10\n",
    "defect.write_output(new_data, \"Sr_10\", \"Sr\")"
   ]
  },
  {
   "cell_type": "code",
   "execution_count": null,
   "metadata": {
    "collapsed": true
   },
   "outputs": [],
   "source": [
    "subprocess.call('../Codes/metadise.exe', cwd='Sr_10/')\n",
    "os.rename('Sr_10/control_o0001.dlp', 'Sr_10/CONTROL')\n",
    "os.rename('Sr_10/config__o0001.dlp', 'Sr_10/CONFIG')\n",
    "os.rename('Sr_10/field___o0001.dlp', 'Sr_10/FIELD')"
   ]
  },
  {
   "cell_type": "markdown",
   "metadata": {},
   "source": [
    "# Putting It All Together #\n",
    "\n",
    "You should now hopefully have the tools needed to begin to investigate the role of various dopants on the transport properties of CaF$_2$. \n",
    "\n",
    "As with week 3, it is up to you how you want to proceed from here, this should be treated as a research project, in your groups decide what questions you want to answer and then design a series of simulations to answer those questions. As always there will be a demonstrator who will be happy to assist. Good luck."
   ]
  }
 ],
 "metadata": {
  "kernelspec": {
   "display_name": "Python 3",
   "language": "python",
   "name": "python3"
  },
  "language_info": {
   "codemirror_mode": {
    "name": "ipython",
    "version": 3
   },
   "file_extension": ".py",
   "mimetype": "text/x-python",
   "name": "python",
   "nbconvert_exporter": "python",
   "pygments_lexer": "ipython3",
   "version": "3.6.3"
  }
 },
 "nbformat": 4,
 "nbformat_minor": 2
}
